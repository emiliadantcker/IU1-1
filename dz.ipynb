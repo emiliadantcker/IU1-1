{
 "cells": [
  {
   "cell_type": "code",
   "execution_count": 5,
   "id": "a803de07",
   "metadata": {},
   "outputs": [
    {
     "name": "stdout",
     "output_type": "stream",
     "text": [
      "Введите длину 1-ой стороны\n",
      "7\n",
      "Введите длину 2-ой стороны\n",
      "8\n",
      "Введите длину 3-ей стороны\n",
      "9\n",
      "Треугольник не имеет равных сторон и треугольник остроугольный\n"
     ]
    }
   ],
   "source": [
    "print(\"Введите длину 1-ой стороны\")\n",
    "a=int(input())\n",
    "print(\"Введите длину 2-ой стороны\")\n",
    "b=int(input())\n",
    "print(\"Введите длину 3-ей стороны\")\n",
    "c=int(input())\n",
    "if a<=0 or b<=0 or c<=0:\n",
    "    print(\"Вы ввели некорректные длины сторон, они не могут быть отрицательными. Введите снова\")\n",
    "else:\n",
    "    maximum=max(a,b,c)\n",
    "    minimum=min(a,b,c)\n",
    "    sr=0\n",
    "    p=[a,b,c]\n",
    "    i=0\n",
    "    for k in range(3):\n",
    "        if p[i+1]>=p[i]>=p[i+2] or p[i+2]>=p[i]>=p[i+2]:\n",
    "            sr=p[i]\n",
    "            break\n",
    "        else:\n",
    "\n",
    "            p[i]=p[i+1]\n",
    "            p[i+1]=p[i+2]\n",
    "            p[i+2]=p[i]\n",
    "    if a+b>c and a+c>b and b+c>a:\n",
    "        if a==b!=с or a!=b==c or a==c!=b:\n",
    "            print('Треугольник равнобедренный и', end='')\n",
    "        elif a==b==c:\n",
    "            print('Треугольник равноcторонний и', end='')\n",
    "        elif a!=b!=c:\n",
    "            print('Треугольник не имеет равных сторон и', end='')\n",
    "        if maximum**2>sr**2+minimum**2:\n",
    "            print(' треугольник тупоугольный')\n",
    "        elif maximum**2==sr**2+minimum**2:\n",
    "            print(' треугольник прямоугольный')\n",
    "        elif maximum**2<sr**2+minimum**2:\n",
    "            print(' треугольник остроугольный')\n",
    "    else:\n",
    "        print(\"Треугольника с такими сторонами не существует\")"
   ]
  },
  {
   "cell_type": "code",
   "execution_count": null,
   "id": "33af0ecf",
   "metadata": {},
   "outputs": [],
   "source": []
  }
 ],
 "metadata": {
  "kernelspec": {
   "display_name": "Python 3 (ipykernel)",
   "language": "python",
   "name": "python3"
  },
  "language_info": {
   "codemirror_mode": {
    "name": "ipython",
    "version": 3
   },
   "file_extension": ".py",
   "mimetype": "text/x-python",
   "name": "python",
   "nbconvert_exporter": "python",
   "pygments_lexer": "ipython3",
   "version": "3.9.7"
  }
 },
 "nbformat": 4,
 "nbformat_minor": 5
}
